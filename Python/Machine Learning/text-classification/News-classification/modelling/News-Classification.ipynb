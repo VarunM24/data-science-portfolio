{
 "cells": [
  {
   "cell_type": "markdown",
   "metadata": {},
   "source": [
    "# Introduction\n",
    "## So far we have preprocessed the given news articles and corresponding labels and made them ready to perform modelling on them. In this notebook we will be performing modelling on the news articles using the following algorithms:\n",
    "### - Naive bayes\n",
    "### - Logistic regression\n",
    "### - Linear SVM\n",
    "### - Multilayer perceptron\n",
    "### - LSTM - with ngram collocation and using pretrained wordembedding\n",
    "### - CNN - - with ngram collocation and using pretrained wordembedding\n",
    "### - CNN + LSTM -  with ngram collocation and using pretrained wordembedding\n",
    "### - FastText \n",
    "======================================================================================================================"
   ]
  },
  {
   "cell_type": "code",
   "execution_count": 1,
   "metadata": {},
   "outputs": [],
   "source": [
    "# importing libraries\n",
    "import pandas as pd\n",
    "from sklearn.model_selection import StratifiedShuffleSplit\n",
    "from sklearn.naive_bayes import MultinomialNB\n",
    "import numpy as np\n",
    "from sklearn.linear_model import SGDClassifier, LogisticRegression\n",
    "from sklearn.model_selection import GridSearchCV\n",
    "import pandas as pd\n",
    "from sklearn.model_selection import KFold, cross_val_score\n",
    "from sklearn.feature_extraction.text import TfidfVectorizer\n",
    "from sklearn.multiclass import OneVsOneClassifier\n",
    "from sklearn.metrics import accuracy_score\n",
    "from sklearn.neural_network import MLPClassifier\n",
    "from keras.models import Sequential\n",
    "from keras.layers import Dense, Flatten, LSTM, Conv1D, MaxPooling1D, Dropout, Activation,GlobalAveragePooling1D\n",
    "from keras.callbacks import  EarlyStopping\n",
    "import re\n",
    "from fastText import train_supervised"
   ]
  },
  {
   "cell_type": "markdown",
   "metadata": {},
   "source": [
    "### Loading the cleaned data"
   ]
  },
  {
   "cell_type": "code",
   "execution_count": 2,
   "metadata": {},
   "outputs": [],
   "source": [
    "def read_data(filepath):\n",
    "    temp_data = open(filepath,'r')\n",
    "    temp_data = temp_data.readlines()\n",
    "    temp_data = [x.replace('\\n','') for x in  temp_data]\n",
    "    return temp_data\n",
    "\n",
    "def read_label(filepath):\n",
    "    temp_pd  = pd.read_csv(filepath)\n",
    "    temp_pd = temp_pd.y.str.replace('C','')\n",
    "    return list(temp_pd.values)"
   ]
  },
  {
   "cell_type": "code",
   "execution_count": 3,
   "metadata": {},
   "outputs": [
    {
     "name": "stderr",
     "output_type": "stream",
     "text": [
      "C:\\Users\\VM\\Anaconda3\\lib\\site-packages\\ipykernel\\__main__.py:12: FutureWarning: currently extract(expand=None) means expand=False (return Index/Series/DataFrame) but in a future version of pandas this will be changed to expand=True (return DataFrame)\n"
     ]
    }
   ],
   "source": [
    "train_data_ngram = read_data('../Data/processed/train_data1.txt')\n",
    "train_data_no_ngram = read_data('../Data/processed/train_data_no_ngram.txt')\n",
    "val_data_ngram = read_data('../Data/processed/validation_data1.txt')\n",
    "val_data_no_ngram = read_data('../Data/processed/validation_data_no_ngram.txt')\n",
    "complete_data_ngram = read_data('../Data/processed/complete_data1.txt')\n",
    "complete_data_no_ngram = read_data ('../Data/processed/complete_data_no_ngram.txt')\n",
    "train_label_ngram = read_label('../Data/processed/train_labels1.csv')\n",
    "train_label_no_ngram = read_label('../Data/processed/train_labels_no_ngram.csv')\n",
    "val_label_ngram = read_label('../Data/processed/validation_labels1.csv')\n",
    "val_label_no_ngram  = read_label('../Data/processed/validation_labels_no_ngram.csv')\n",
    "test_labels = open('../Data/original/testing_labels.txt','r').readlines()\n",
    "test_labels = pd.DataFrame(test_labels).loc[:,0].str.extract('.+C(\\d+)\\n')\n",
    "test_data_ngram = read_data('../Data/processed/test_data1.txt')\n",
    "test_data_no_ngram = read_data('../Data/processed/test_data_no_ngram.txt')\n",
    "complete_labels_ngram =  train_label_ngram + val_label_ngram\n",
    "complete_labels_no_ngram = train_label_no_ngram + val_label_no_ngram"
   ]
  },
  {
   "cell_type": "code",
   "execution_count": 4,
   "metadata": {},
   "outputs": [],
   "source": [
    "# Creating dictionary to store different model performances\n",
    "df_performances = {}"
   ]
  },
  {
   "cell_type": "markdown",
   "metadata": {},
   "source": [
    "## Using TF IDF\n",
    "### First we will create models using TF IDF form of the data and evaluate their performance on validation data\n"
   ]
  },
  {
   "cell_type": "markdown",
   "metadata": {},
   "source": [
    "#### For ngram data"
   ]
  },
  {
   "cell_type": "code",
   "execution_count": 5,
   "metadata": {},
   "outputs": [],
   "source": [
    "# learning the tfidf vectorizer to learn vocabulary and the id values of each word from training data\n",
    "tfidf_vectorizer = TfidfVectorizer(input = 'content', analyzer = 'word')\n",
    "tfidf_train_data_ngram = tfidf_vectorizer.fit_transform(complete_data_ngram)\n",
    "# transforming test data into idf vector\n",
    "tfidf_test_data_ngram = tfidf_vectorizer.transform(test_data_ngram) "
   ]
  },
  {
   "cell_type": "markdown",
   "metadata": {},
   "source": [
    "#### For data without ngrams"
   ]
  },
  {
   "cell_type": "code",
   "execution_count": 6,
   "metadata": {},
   "outputs": [],
   "source": [
    "# learning the tfidf vectorizer to learn vocabulary and the id values of each word from training data\n",
    "tfidf_vectorizer = TfidfVectorizer(input = 'content', analyzer = 'word')\n",
    "tfidf_train_data_no_ngram = tfidf_vectorizer.fit_transform(complete_data_no_ngram)\n",
    "# transforming test data into idf vector\n",
    "tfidf_test_data_no_ngram = tfidf_vectorizer.transform(test_data_no_ngram) "
   ]
  },
  {
   "cell_type": "markdown",
   "metadata": {},
   "source": [
    "## Naive Bayes classifier\n",
    "=================================\n",
    "### 5 fold Crossvalidation performance"
   ]
  },
  {
   "cell_type": "code",
   "execution_count": 29,
   "metadata": {},
   "outputs": [],
   "source": [
    "# Creating a stratified shuffled split\n",
    "sss = StratifiedShuffleSplit(n_splits=5, test_size=0.2, random_state=321)"
   ]
  },
  {
   "cell_type": "code",
   "execution_count": 30,
   "metadata": {},
   "outputs": [],
   "source": [
    "clf_MNB = MultinomialNB(alpha = 0.1)\n",
    "crossval_arr = cross_val_score(clf_MNB, tfidf_train_data_ngram, complete_labels_ngram, cv=sss)\n",
    "avg_nb = sum(crossval_arr)/len(crossval_arr)"
   ]
  },
  {
   "cell_type": "code",
   "execution_count": 31,
   "metadata": {},
   "outputs": [
    {
     "name": "stdout",
     "output_type": "stream",
     "text": [
      "NB 5 fold crossvalidation avg accuracy =   0.7528019164826907\n"
     ]
    }
   ],
   "source": [
    "print ('NB 5 fold crossvalidation avg accuracy =  ',avg_nb)"
   ]
  },
  {
   "cell_type": "markdown",
   "metadata": {},
   "source": [
    "### Performance on test dataset"
   ]
  },
  {
   "cell_type": "code",
   "execution_count": 32,
   "metadata": {},
   "outputs": [],
   "source": [
    "clf_MNB = clf_MNB.fit(tfidf_train_data_ngram, complete_labels_ngram)\n",
    "predicted_nb = clf_MNB.predict(tfidf_test_data_ngram)\n",
    "nb_accu = accuracy_score (test_labels,predicted_nb)"
   ]
  },
  {
   "cell_type": "code",
   "execution_count": 33,
   "metadata": {},
   "outputs": [
    {
     "data": {
      "text/plain": [
       "0.7399098083427283"
      ]
     },
     "execution_count": 33,
     "metadata": {},
     "output_type": "execute_result"
    }
   ],
   "source": [
    "nb_accu"
   ]
  },
  {
   "cell_type": "code",
   "execution_count": 34,
   "metadata": {},
   "outputs": [],
   "source": [
    "# Adding to performance dictionary\n",
    "df_performances['NB_ngram'] = nb_accu"
   ]
  },
  {
   "cell_type": "markdown",
   "metadata": {},
   "source": [
    "## SVM classifier\n",
    "=======================\n",
    "### 5 fold Crossvalidation performance"
   ]
  },
  {
   "cell_type": "code",
   "execution_count": 35,
   "metadata": {},
   "outputs": [],
   "source": [
    "clf_svm= OneVsOneClassifier(SGDClassifier(loss='hinge', penalty='l2',alpha=1e-4, max_iter=50, random_state=42))"
   ]
  },
  {
   "cell_type": "code",
   "execution_count": 36,
   "metadata": {},
   "outputs": [
    {
     "name": "stdout",
     "output_type": "stream",
     "text": [
      "SVM 5 fold crossvalidation avg accuracy =   0.781708863732444\n"
     ]
    }
   ],
   "source": [
    "crossval_arr_svm = cross_val_score(clf_svm, tfidf_train_data_ngram, complete_labels_ngram, cv=sss)\n",
    "avg_svm = sum(crossval_arr_svm)/len(crossval_arr_svm)\n",
    "print ('SVM 5 fold crossvalidation avg accuracy =  ',avg_svm)"
   ]
  },
  {
   "cell_type": "markdown",
   "metadata": {},
   "source": [
    "### Performance on test dataset"
   ]
  },
  {
   "cell_type": "code",
   "execution_count": 37,
   "metadata": {},
   "outputs": [
    {
     "data": {
      "text/plain": [
       "0.7685080796692972"
      ]
     },
     "execution_count": 37,
     "metadata": {},
     "output_type": "execute_result"
    }
   ],
   "source": [
    "clf_svm = clf_svm.fit(tfidf_train_data_ngram, complete_labels_ngram)\n",
    "predicted_svm = clf_svm.predict(tfidf_test_data_ngram)\n",
    "svm_accu = accuracy_score (test_labels,predicted_svm)\n",
    "svm_accu"
   ]
  },
  {
   "cell_type": "code",
   "execution_count": 38,
   "metadata": {},
   "outputs": [],
   "source": [
    "# Adding to performance dictionary\n",
    "df_performances['SVM_ngram'] = svm_accu"
   ]
  },
  {
   "cell_type": "code",
   "execution_count": 39,
   "metadata": {},
   "outputs": [
    {
     "data": {
      "text/plain": [
       "(106443, 45367)"
      ]
     },
     "execution_count": 39,
     "metadata": {},
     "output_type": "execute_result"
    }
   ],
   "source": [
    "tfidf_train_data_ngram.shape"
   ]
  },
  {
   "cell_type": "markdown",
   "metadata": {},
   "source": [
    "## MLP Classifier\n",
    "========================\n",
    "### 2 Crossvalidation performance"
   ]
  },
  {
   "cell_type": "code",
   "execution_count": 40,
   "metadata": {},
   "outputs": [
    {
     "name": "stderr",
     "output_type": "stream",
     "text": [
      "C:\\Users\\VM\\Anaconda3\\lib\\site-packages\\sklearn\\neural_network\\multilayer_perceptron.py:564: ConvergenceWarning: Stochastic Optimizer: Maximum iterations (2) reached and the optimization hasn't converged yet.\n",
      "  % self.max_iter, ConvergenceWarning)\n",
      "C:\\Users\\VM\\Anaconda3\\lib\\site-packages\\sklearn\\neural_network\\multilayer_perceptron.py:564: ConvergenceWarning: Stochastic Optimizer: Maximum iterations (2) reached and the optimization hasn't converged yet.\n",
      "  % self.max_iter, ConvergenceWarning)\n"
     ]
    },
    {
     "name": "stdout",
     "output_type": "stream",
     "text": [
      "100 neuron MLP 2 fold crossvalidation avg accuracy =   0.7817417445629198\n"
     ]
    }
   ],
   "source": [
    "# Creating a stratified shuffled split\n",
    "sss_mlp = StratifiedShuffleSplit(n_splits=2, test_size=0.2, random_state=321)\n",
    "mlp_clf = MLPClassifier(hidden_layer_sizes=(100,), learning_rate_init=0.001, max_iter=2)\n",
    "crossval_arr_mlp = cross_val_score(mlp_clf, tfidf_train_data_ngram, complete_labels_ngram, cv=sss_mlp)\n",
    "avg_mlp = sum(crossval_arr_mlp)/len(crossval_arr_mlp)\n",
    "print ('100 neuron MLP 2 fold crossvalidation avg accuracy =  ',avg_mlp)"
   ]
  },
  {
   "cell_type": "markdown",
   "metadata": {},
   "source": [
    "### Performance on test dataset"
   ]
  },
  {
   "cell_type": "code",
   "execution_count": 41,
   "metadata": {},
   "outputs": [
    {
     "name": "stderr",
     "output_type": "stream",
     "text": [
      "C:\\Users\\VM\\Anaconda3\\lib\\site-packages\\sklearn\\neural_network\\multilayer_perceptron.py:564: ConvergenceWarning: Stochastic Optimizer: Maximum iterations (2) reached and the optimization hasn't converged yet.\n",
      "  % self.max_iter, ConvergenceWarning)\n"
     ]
    },
    {
     "data": {
      "text/plain": [
       "0.7719654265313792"
      ]
     },
     "execution_count": 41,
     "metadata": {},
     "output_type": "execute_result"
    }
   ],
   "source": [
    "mlp = mlp_clf.fit(tfidf_train_data_ngram, complete_labels_ngram)\n",
    "predicted_mlp = mlp.predict(tfidf_test_data_ngram)\n",
    "mlp_accu = accuracy_score (test_labels,predicted_mlp)\n",
    "mlp_accu"
   ]
  },
  {
   "cell_type": "code",
   "execution_count": 42,
   "metadata": {},
   "outputs": [],
   "source": [
    "# Adding to performance dictionary\n",
    "df_performances['MLP_100N_ngram'] = mlp_accu"
   ]
  },
  {
   "cell_type": "markdown",
   "metadata": {},
   "source": [
    "### Logistic Regression\n",
    "=========================="
   ]
  },
  {
   "cell_type": "code",
   "execution_count": 45,
   "metadata": {},
   "outputs": [
    {
     "name": "stdout",
     "output_type": "stream",
     "text": [
      "LR 5 fold crossvalidation avg accuracy =   0.7802808962374935\n"
     ]
    }
   ],
   "source": [
    "lr_clf = LogisticRegression()\n",
    "crossval_arr = cross_val_score(lr_clf, tfidf_train_data_ngram, complete_labels_ngram, cv=sss)\n",
    "avg_lr = sum(crossval_arr)/len(crossval_arr)\n",
    "print ('LR 5 fold crossvalidation avg accuracy =  ',avg_lr)\n"
   ]
  },
  {
   "cell_type": "code",
   "execution_count": 46,
   "metadata": {},
   "outputs": [
    {
     "data": {
      "text/plain": [
       "0.7676061630965803"
      ]
     },
     "execution_count": 46,
     "metadata": {},
     "output_type": "execute_result"
    }
   ],
   "source": [
    "lr_clf = lr_clf.fit(tfidf_train_data_ngram, complete_labels_ngram)\n",
    "predicted_lr = lr_clf.predict(tfidf_test_data_ngram)\n",
    "lr_accu = accuracy_score (test_labels,predicted_lr)\n",
    "lr_accu"
   ]
  },
  {
   "cell_type": "code",
   "execution_count": 47,
   "metadata": {},
   "outputs": [],
   "source": [
    "# Adding to performance dictionary\n",
    "df_performances['LR_ngram'] = lr_accu"
   ]
  },
  {
   "cell_type": "markdown",
   "metadata": {},
   "source": [
    "## GloVe\n",
    "### GloVe is a type of model which after getting trained can be used to create word embedding i.e. words representation in a vector space.  We will use pretrained GloVe model which has been trained on news as well as wikipedia which is a corpus similar to our own. Since these vector representation can retain some sort of semantic information, using it may yield better performance.\n",
    "### For deep learning techniques, we intend to use transfer learning by using pretrained word embedding in our model and to let it learn from our corpus as well to save time. And finally these word embeddings will be used as input features to various models. \n",
    "### The pretrained wordembedding file name is glove.6B.100d, glove.6B.200d, glove.6B.300d and can be downloaded from :\n",
    "https://nlp.stanford.edu/projects/glove/"
   ]
  },
  {
   "cell_type": "markdown",
   "metadata": {},
   "source": [
    "#### Loading Glove word embedding in dictionary"
   ]
  },
  {
   "cell_type": "code",
   "execution_count": 7,
   "metadata": {},
   "outputs": [],
   "source": [
    "def loadGlove(Glove_filepath):\n",
    "    embeddings_index = {}\n",
    "    f = open(Glove_filepath, encoding=\"utf8\")\n",
    "    for line in f:\n",
    "        values = line.split(' ')\n",
    "        word = values[0] ## The first entry is the word\n",
    "        coefs = np.asarray(values[1:], dtype='float32') ## These are the vecotrs representing the embedding for the word\n",
    "        embeddings_index[word] = coefs\n",
    "    f.close()\n",
    "    print('GloVe data loaded')\n",
    "    return embeddings_index"
   ]
  },
  {
   "cell_type": "code",
   "execution_count": 8,
   "metadata": {},
   "outputs": [
    {
     "name": "stdout",
     "output_type": "stream",
     "text": [
      "GloVe data loaded\n"
     ]
    }
   ],
   "source": [
    "glove_dict = loadGlove('glove.6B.100d.txt')"
   ]
  },
  {
   "cell_type": "markdown",
   "metadata": {},
   "source": [
    "## CNN\n",
    "### We will first be using data without ngrams for CNN model."
   ]
  },
  {
   "cell_type": "code",
   "execution_count": 81,
   "metadata": {},
   "outputs": [
    {
     "name": "stdout",
     "output_type": "stream",
     "text": [
      "Found 116063 unique words.\n"
     ]
    }
   ],
   "source": [
    "from keras.preprocessing.text import Tokenizer\n",
    "from keras.preprocessing.sequence import pad_sequences\n",
    "from keras.utils import to_categorical\n",
    "from keras.callbacks import ReduceLROnPlateau\n",
    "# Getting word embedding \n",
    "MAX_SEQUENCE_LENGTH = 130\n",
    "\n",
    "tokenizer1 = Tokenizer()\n",
    "tokenizer1.fit_on_texts(complete_data_no_ngram)\n",
    "\n",
    "complete_train_no_ngram = tokenizer1.texts_to_sequences(complete_data_no_ngram)\n",
    "complete_test_no_ngram = tokenizer1.texts_to_sequences(test_data_no_ngram)\n",
    "\n",
    "word_index_no_ngram = tokenizer1.word_index\n",
    "vocab_size = len(word_index_no_ngram)\n",
    "max_words = vocab_size\n",
    "\n",
    "\n",
    "print('Found %s unique words.' % len(word_index_no_ngram))\n",
    "\n",
    "#padding the sequences\n",
    "complete_train_no_ngram_padded = pad_sequences(complete_train_no_ngram, maxlen=MAX_SEQUENCE_LENGTH)\n",
    "complete_test_no_ngram_padded = pad_sequences(complete_test_no_ngram, maxlen=MAX_SEQUENCE_LENGTH)\n",
    "complete_labels_no_ngram = np.array(list(map(int, complete_labels_no_ngram)))\n",
    "complete_labels_no_ngram = complete_labels_no_ngram - 1\n",
    "\n",
    "test_labels = np.array(list(map(int, test_labels)))\n",
    "test_labels = test_labels - 1\n",
    "\n",
    "\n"
   ]
  },
  {
   "cell_type": "code",
   "execution_count": 82,
   "metadata": {},
   "outputs": [],
   "source": [
    "from keras.layers import Embedding\n",
    "from keras.initializers import Constant\n",
    "\n",
    "\n",
    "# Preparing embedding matrix \n",
    "EMBEDDING_DIM = glove_dict.get('a').shape[0]\n",
    "num_words = max_words + 1\n",
    "embedding_matrix_no_ngram = np.zeros((num_words, EMBEDDING_DIM))\n",
    "\n",
    "for word, i in word_index_no_ngram.items():\n",
    "    if i>max_words:\n",
    "        continue\n",
    "    embedding_vector = glove_dict.get(word)\n",
    "    if(embedding_vector is not None):\n",
    "        embedding_matrix_no_ngram[i] = embedding_vector\n",
    "\n",
    "embedding_layer = Embedding(num_words,\n",
    "                            EMBEDDING_DIM,\n",
    "                            embeddings_initializer=Constant(embedding_matrix_no_ngram),\n",
    "                            input_length=MAX_SEQUENCE_LENGTH,\n",
    "                            trainable=True) # We set trainable to True because it gives better performance by optimizing the weights more\n",
    "\n"
   ]
  },
  {
   "cell_type": "markdown",
   "metadata": {},
   "source": [
    "#### What does an embedding matrix look like?"
   ]
  },
  {
   "cell_type": "code",
   "execution_count": 26,
   "metadata": {},
   "outputs": [
    {
     "name": "stdout",
     "output_type": "stream",
     "text": [
      "(105185, 100)\n"
     ]
    },
    {
     "data": {
      "image/png": "[encoded data removed]",
      "text/plain": [
       "<Figure size 432x288 with 1 Axes>"
      ]
     },
     "metadata": {},
     "output_type": "display_data"
    }
   ],
   "source": [
    "import matplotlib.pyplot as plt\n",
    "print(embedding_matrix_no_ngram.shape)\n",
    "plt.plot(embedding_matrix_no_ngram[16])\n",
    "plt.show()"
   ]
  },
  {
   "cell_type": "code",
   "execution_count": 83,
   "metadata": {},
   "outputs": [],
   "source": [
    "\n",
    "model = Sequential()\n",
    "model.add(embedding_layer)\n",
    "model.add(GlobalAveragePooling1D())\n",
    "#model.add(Dropout(0.2))\n",
    "#model.add(Conv1D(64, 5, activation='relu'))\n",
    "#model.add(MaxPooling1D(pool_size=4))\n",
    "#model.add(LSTM(100))\n",
    "model.add(Dense(64, activation='relu'))\n",
    "model.add(Dense(23, activation='softmax'))\n",
    "model.compile(loss='sparse_categorical_crossentropy', optimizer='adam', metrics=['accuracy'])"
   ]
  },
  {
   "cell_type": "code",
   "execution_count": 58,
   "metadata": {},
   "outputs": [
    {
     "data": {
      "text/plain": [
       "85154"
      ]
     },
     "execution_count": 58,
     "metadata": {},
     "output_type": "execute_result"
    }
   ],
   "source": [
    "len(complete_train_no_ngram_padded)"
   ]
  },
  {
   "cell_type": "code",
   "execution_count": 84,
   "metadata": {},
   "outputs": [
    {
     "name": "stdout",
     "output_type": "stream",
     "text": [
      "Train on 101120 samples, validate on 5323 samples\n",
      "Epoch 1/7\n",
      "101120/101120 [==============================] - 107s 1ms/step - loss: 1.1855 - acc: 0.6783 - val_loss: 0.8698 - val_acc: 0.7468\n",
      "Epoch 2/7\n",
      "101120/101120 [==============================] - 98s 967us/step - loss: 0.7512 - acc: 0.7749 - val_loss: 0.7733 - val_acc: 0.7684\n",
      "Epoch 3/7\n",
      "101120/101120 [==============================] - 96s 945us/step - loss: 0.6199 - acc: 0.8079 - val_loss: 0.7369 - val_acc: 0.7796\n",
      "Epoch 4/7\n",
      "101120/101120 [==============================] - 96s 950us/step - loss: 0.5176 - acc: 0.8365 - val_loss: 0.7450 - val_acc: 0.7796\n",
      "Epoch 5/7\n",
      "101120/101120 [==============================] - 96s 946us/step - loss: 0.4275 - acc: 0.8646 - val_loss: 0.7556 - val_acc: 0.7774\n"
     ]
    },
    {
     "data": {
      "text/plain": [
       "<keras.callbacks.History at 0x2112a64fda0>"
      ]
     },
     "execution_count": 84,
     "metadata": {},
     "output_type": "execute_result"
    }
   ],
   "source": [
    "earlystopping_callback = EarlyStopping(monitor='val_loss', patience=2,restore_best_weights=True)\n",
    "lr_reduce_callback = ReduceLROnPlateau(monitor='val_loss', factor=0.2, patience=2, verbose=0, mode='auto', min_delta=0.0001, cooldown=0, min_lr=0)        \n",
    "model.fit(complete_train_no_ngram_padded,complete_labels_no_ngram\n",
    "          ,batch_size = 32, validation_split=0.05, epochs = 7, callbacks = [earlystopping_callback,lr_reduce_callback])"
   ]
  },
  {
   "cell_type": "code",
   "execution_count": 107,
   "metadata": {},
   "outputs": [
    {
     "data": {
      "text/plain": [
       "0.7627207816610296"
      ]
     },
     "execution_count": 107,
     "metadata": {},
     "output_type": "execute_result"
    }
   ],
   "source": [
    "no_ngram_cnn_pred7 = model.predict(complete_test_no_ngram_padded)\n",
    "no_ngram_cnn_pred7 = list(map(np.argmax, no_ngram_cnn_pred7))\n",
    "no_ngram_cnn_accu7 = accuracy_score (test_labels,no_ngram_cnn_pred7)\n",
    "no_ngram_cnn_accu7"
   ]
  },
  {
   "cell_type": "markdown",
   "metadata": {},
   "source": [
    "#### Now training on complete data to find accuracy on test data"
   ]
  },
  {
   "cell_type": "code",
   "execution_count": 108,
   "metadata": {},
   "outputs": [
    {
     "name": "stdout",
     "output_type": "stream",
     "text": [
      "Epoch 1/3\n",
      "106443/106443 [==============================] - 69s 644us/step - loss: 0.6590 - acc: 0.8397\n",
      "Epoch 2/3\n",
      "106443/106443 [==============================] - 64s 599us/step - loss: 0.2596 - acc: 0.9302\n",
      "Epoch 3/3\n",
      "106443/106443 [==============================] - 70s 662us/step - loss: 0.1919 - acc: 0.9481\n"
     ]
    },
    {
     "data": {
      "text/plain": [
       "<keras.callbacks.History at 0x2112d2335f8>"
      ]
     },
     "execution_count": 108,
     "metadata": {},
     "output_type": "execute_result"
    }
   ],
   "source": [
    "model2 = Sequential()\n",
    "model2.add(embedding_layer)\n",
    "model2.add(GlobalAveragePooling1D())\n",
    "#model.add(Dropout(0.2))\n",
    "#model.add(Conv1D(64, 5, activation='relu'))\n",
    "#model.add(MaxPooling1D(pool_size=4))\n",
    "#model.add(LSTM(100))\n",
    "model2.add(Dense(64, activation='relu'))\n",
    "model2.add(Dense(23, activation='softmax'))\n",
    "model2.compile(loss='sparse_categorical_crossentropy', optimizer='adam', metrics=['accuracy'])\n",
    "#earlystopping_callback = EarlyStopping(monitor='val_loss', patience=2,restore_best_weights=True)\n",
    "#lr_reduce_callback = ReduceLROnPlateau(monitor='val_loss', factor=0.2, patience=2, verbose=0, mode='auto', min_delta=0.0001, cooldown=0, min_lr=0)        \n",
    "model2.fit(complete_train_no_ngram_padded,complete_labels_no_ngram\n",
    "          ,batch_size = 32, epochs = 3)"
   ]
  },
  {
   "cell_type": "code",
   "execution_count": 109,
   "metadata": {},
   "outputs": [
    {
     "data": {
      "text/plain": [
       "0.7218338970311913"
      ]
     },
     "execution_count": 109,
     "metadata": {},
     "output_type": "execute_result"
    }
   ],
   "source": [
    "no_ngram_cnn_pred = model2.predict(complete_test_no_ngram_padded)\n",
    "no_ngram_cnn_pred1 = list(map(np.argmax, no_ngram_cnn_pred))\n",
    "no_ngram_cnn_accu = accuracy_score (test_labels,no_ngram_cnn_pred1)\n",
    "no_ngram_cnn_accu"
   ]
  },
  {
   "cell_type": "markdown",
   "metadata": {},
   "source": [
    "### Now using data with ngram"
   ]
  },
  {
   "cell_type": "code",
   "execution_count": 85,
   "metadata": {},
   "outputs": [
    {
     "name": "stdout",
     "output_type": "stream",
     "text": [
      "Found 40747 unique words.\n"
     ]
    }
   ],
   "source": [
    "#complete_data_ngram\n",
    "#complete_labels_ngram\n",
    "\n",
    "\n",
    "# Getting word embedding \n",
    "MAX_SEQUENCE_LENGTH = 130\n",
    "\n",
    "tokenizer2 = Tokenizer()\n",
    "tokenizer2.fit_on_texts(complete_data_ngram)\n",
    "\n",
    "complete_train_ngram = tokenizer2.texts_to_sequences(complete_data_ngram)\n",
    "complete_test_ngram = tokenizer2.texts_to_sequences(test_data_ngram)\n",
    "\n",
    "word_index_ngram = tokenizer2.word_index\n",
    "vocab_size = len(word_index_ngram)\n",
    "max_words = vocab_size\n",
    "\n",
    "\n",
    "print('Found %s unique words.' % len(word_index_ngram))\n",
    "\n",
    "#padding the sequences\n",
    "complete_train_ngram_padded = pad_sequences(complete_train_ngram, maxlen=MAX_SEQUENCE_LENGTH)\n",
    "complete_test_ngram_padded = pad_sequences(complete_test_ngram, maxlen=MAX_SEQUENCE_LENGTH)\n",
    "complete_labels_ngram = np.array(list(map(int, complete_labels_ngram)))\n",
    "complete_labels_ngram = complete_labels_ngram - 1\n",
    "\n",
    "#test_labels = np.array(list(map(int, test_labels)))\n",
    "#test_labels = test_labels - 1\n",
    "\n",
    "# Preparing embedding matrix \n",
    "EMBEDDING_DIM = glove_dict.get('a').shape[0]\n",
    "num_words = max_words + 1\n",
    "embedding_matrix_ngram = np.zeros((num_words, EMBEDDING_DIM))\n",
    "\n",
    "for word, i in word_index_ngram.items():\n",
    "    if i>max_words:\n",
    "        continue\n",
    "    embedding_vector = glove_dict.get(word)\n",
    "    if(embedding_vector is not None):\n",
    "        embedding_matrix_ngram[i] = embedding_vector\n",
    "        \n",
    "embedding_layer = Embedding(num_words,\n",
    "                            EMBEDDING_DIM,\n",
    "                            embeddings_initializer=Constant(embedding_matrix_ngram),\n",
    "                            input_length=MAX_SEQUENCE_LENGTH,\n",
    "                            trainable=True) # We set trainable to True because it gives better performance by optimizing the weights more\n",
    "\n",
    "\n"
   ]
  },
  {
   "cell_type": "code",
   "execution_count": 86,
   "metadata": {},
   "outputs": [],
   "source": [
    "model_ngram = Sequential()\n",
    "model_ngram.add(embedding_layer)\n",
    "model_ngram.add(GlobalAveragePooling1D())\n",
    "#model.add(Dropout(0.2))\n",
    "#model.add(Conv1D(64, 5, activation='relu'))\n",
    "#model.add(MaxPooling1D(pool_size=4))\n",
    "#model.add(LSTM(100))\n",
    "model_ngram.add(Dense(64, activation='relu'))\n",
    "model_ngram.add(Dense(23, activation='softmax'))\n",
    "model_ngram.compile(loss='sparse_categorical_crossentropy', optimizer='adam', metrics=['accuracy'])\n"
   ]
  },
  {
   "cell_type": "code",
   "execution_count": 87,
   "metadata": {},
   "outputs": [
    {
     "name": "stdout",
     "output_type": "stream",
     "text": [
      "Train on 101120 samples, validate on 5323 samples\n",
      "Epoch 1/7\n",
      "101120/101120 [==============================] - 68s 674us/step - loss: 1.1924 - acc: 0.6772 - val_loss: 0.9022 - val_acc: 0.7338\n",
      "Epoch 2/7\n",
      "101120/101120 [==============================] - 60s 594us/step - loss: 0.7680 - acc: 0.7722 - val_loss: 0.8066 - val_acc: 0.7509\n",
      "Epoch 3/7\n",
      "101120/101120 [==============================] - 63s 627us/step - loss: 0.6437 - acc: 0.8017 - val_loss: 0.7817 - val_acc: 0.7642\n",
      "Epoch 4/7\n",
      "101120/101120 [==============================] - 63s 624us/step - loss: 0.5493 - acc: 0.8285 - val_loss: 0.7850 - val_acc: 0.7618\n",
      "Epoch 5/7\n",
      "101120/101120 [==============================] - 63s 621us/step - loss: 0.4684 - acc: 0.8526 - val_loss: 0.8012 - val_acc: 0.7659\n"
     ]
    },
    {
     "data": {
      "text/plain": [
       "<keras.callbacks.History at 0x211294f31d0>"
      ]
     },
     "execution_count": 87,
     "metadata": {},
     "output_type": "execute_result"
    }
   ],
   "source": [
    "\n",
    "earlystopping_callback = EarlyStopping(monitor='val_loss', patience=2,restore_best_weights=True)\n",
    "\n",
    "model_ngram.fit(complete_train_ngram_padded,complete_labels_ngram\n",
    "          ,batch_size = 32, validation_split=0.05, epochs = 7, callbacks = [earlystopping_callback,lr_reduce_callback])"
   ]
  },
  {
   "cell_type": "code",
   "execution_count": 110,
   "metadata": {},
   "outputs": [
    {
     "data": {
      "text/plain": [
       "0.6874859075535513"
      ]
     },
     "execution_count": 110,
     "metadata": {},
     "output_type": "execute_result"
    }
   ],
   "source": [
    "ngram_cnn_pred7 = model_ngram.predict(complete_test_ngram_padded)\n",
    "ngram_cnn_pred7 = list(map(np.argmax, ngram_cnn_pred7))\n",
    "ngram_cnn_accu7 = accuracy_score (test_labels,ngram_cnn_pred7)\n",
    "ngram_cnn_accu7"
   ]
  },
  {
   "cell_type": "markdown",
   "metadata": {},
   "source": [
    "### On test data"
   ]
  },
  {
   "cell_type": "code",
   "execution_count": 101,
   "metadata": {},
   "outputs": [
    {
     "name": "stdout",
     "output_type": "stream",
     "text": [
      "Epoch 1/3\n",
      "106443/106443 [==============================] - 66s 623us/step - loss: 0.9290 - acc: 0.7546\n",
      "Epoch 2/3\n",
      "106443/106443 [==============================] - 56s 523us/step - loss: 0.6166 - acc: 0.8153\n",
      "Epoch 3/3\n",
      "106443/106443 [==============================] - 57s 531us/step - loss: 0.5238 - acc: 0.8389\n"
     ]
    },
    {
     "data": {
      "text/plain": [
       "<keras.callbacks.History at 0x2112d27c0b8>"
      ]
     },
     "execution_count": 101,
     "metadata": {},
     "output_type": "execute_result"
    }
   ],
   "source": [
    "model_ngram2 = Sequential()\n",
    "model_ngram2.add(embedding_layer)\n",
    "model_ngram2.add(GlobalAveragePooling1D())\n",
    "#model.add(Dropout(0.2))\n",
    "#model.add(Conv1D(64, 5, activation='relu'))\n",
    "#model.add(MaxPooling1D(pool_size=4))\n",
    "#model.add(LSTM(100))\n",
    "model_ngram2.add(Dense(64, activation='relu'))\n",
    "model_ngram2.add(Dense(23, activation='softmax'))\n",
    "model_ngram2.compile(loss='sparse_categorical_crossentropy', optimizer='adam', metrics=['accuracy'])\n",
    "\n",
    "\n",
    "model_ngram2.fit(complete_train_ngram_padded,complete_labels_ngram\n",
    "          ,batch_size = 32, epochs = 3 )"
   ]
  },
  {
   "cell_type": "code",
   "execution_count": 102,
   "metadata": {},
   "outputs": [
    {
     "data": {
      "text/plain": [
       "0.7585494175122135"
      ]
     },
     "execution_count": 102,
     "metadata": {},
     "output_type": "execute_result"
    }
   ],
   "source": [
    "ngram_cnn_pred = model_ngram2.predict(complete_test_ngram_padded)\n",
    "ngram_cnn_pred1 = list(map(np.argmax, ngram_cnn_pred))\n",
    "ngram_cnn_accu = accuracy_score (test_labels,ngram_cnn_pred1)\n",
    "ngram_cnn_accu"
   ]
  },
  {
   "cell_type": "code",
   "execution_count": 105,
   "metadata": {},
   "outputs": [
    {
     "name": "stdout",
     "output_type": "stream",
     "text": [
      "Epoch 1/5\n",
      "106443/106443 [==============================] - 69s 650us/step - loss: 0.8009 - acc: 0.7936\n",
      "Epoch 2/5\n",
      "106443/106443 [==============================] - 63s 596us/step - loss: 0.5013 - acc: 0.8505\n",
      "Epoch 3/5\n",
      "106443/106443 [==============================] - 65s 608us/step - loss: 0.4220 - acc: 0.8721\n",
      "Epoch 4/5\n",
      "106443/106443 [==============================] - 65s 612us/step - loss: 0.3591 - acc: 0.8896\n",
      "Epoch 5/5\n",
      "106443/106443 [==============================] - 64s 602us/step - loss: 0.3062 - acc: 0.9062\n"
     ]
    },
    {
     "data": {
      "text/plain": [
       "<keras.callbacks.History at 0x2112d22ce80>"
      ]
     },
     "execution_count": 105,
     "metadata": {},
     "output_type": "execute_result"
    }
   ],
   "source": [
    "model_ngram5 = Sequential()\n",
    "model_ngram5.add(embedding_layer)\n",
    "model_ngram5.add(GlobalAveragePooling1D())\n",
    "#model.add(Dropout(0.2))\n",
    "#model.add(Conv1D(64, 5, activation='relu'))\n",
    "#model.add(MaxPooling1D(pool_size=4))\n",
    "#model.add(LSTM(100))\n",
    "model_ngram5.add(Dense(64, activation='relu'))\n",
    "model_ngram5.add(Dense(23, activation='softmax'))\n",
    "model_ngram5.compile(loss='sparse_categorical_crossentropy', optimizer='adam', metrics=['accuracy'])\n",
    "\n",
    "\n",
    "model_ngram5.fit(complete_train_ngram_padded,complete_labels_ngram\n",
    "          ,batch_size = 32, epochs = 5 )"
   ]
  },
  {
   "cell_type": "code",
   "execution_count": 106,
   "metadata": {},
   "outputs": [
    {
     "data": {
      "text/plain": [
       "0.7447576099210823"
      ]
     },
     "execution_count": 106,
     "metadata": {},
     "output_type": "execute_result"
    }
   ],
   "source": [
    "ngram_cnn_pred5 = model_ngram5.predict(complete_test_ngram_padded)\n",
    "ngram_cnn_pred5 = list(map(np.argmax, ngram_cnn_pred5))\n",
    "ngram_cnn_accu5 = accuracy_score (test_labels,ngram_cnn_pred5)\n",
    "ngram_cnn_accu5"
   ]
  },
  {
   "cell_type": "code",
   "execution_count": null,
   "metadata": {},
   "outputs": [],
   "source": [
    "kernel_size = 5\n",
    "filters = 64\n",
    "pool_size = 4\n",
    "\n",
    "lstm_output_size = 70\n",
    "\n",
    "model_lstm_cnn <- keras_model_sequential()\n",
    "\n",
    "model_lstm_cnn %>% \n",
    "    layer_embedding(input_dim = vocab_size, input_length = maxlen,output_dim = embedding_size) %>%\n",
    "    layer_dropout(0.25) %>%\n",
    "    layer_conv_1d(\n",
    "       filters, \n",
    "       kernel_size, \n",
    "       padding = \"valid\",\n",
    "       activation = \"relu\",\n",
    "       strides = 1\n",
    "    ) %>%\n",
    "  layer_max_pooling_1d(pool_size) %>%\n",
    "  layer_lstm(units= maxlen+50)%>%\n",
    "  layer_dense(units = 23, activation = \"softmax\")\n",
    "\n",
    "\n",
    "get_layer(model_lstm_cnn, index = 1) %>% \n",
    "  set_weights(list(embedding_matrix)) #%>% \n",
    "  #freeze_weights()\n",
    "\n",
    "model_lstm_cnn %>% summary()\n",
    "# len\n",
    "model_lstm_cnn %>% compile(\n",
    "  loss = \"sparse_categorical_crossentropy\",\n",
    "  optimizer = \"adam\",\n",
    "  metrics = \"accuracy\"\n",
    ")\n",
    "\n",
    "history_lstm_cnn <- model_lstm_cnn %>% fit(\n",
    "  train_data_ass,\n",
    "  complete_labels_for_cnn_n_lstm,\n",
    "  epochs =3,\n",
    "  batch_size = 32,\n",
    "  #validation_split=0.3,\n",
    "  validation_data = list(val_data_ass, y_val4),\n",
    "  verbose=1,\n",
    "  callbacks = list(\n",
    "  callback_model_checkpoint(\"checkpoints_cnn_lstm_zongz.h5\", monitor = \"val_acc\", verbose = 0,\n",
    "  save_best_only = TRUE, save_weights_only = FALSE, mode = \"max\", period = 1),\n",
    "  callback_reduce_lr_on_plateau(monitor = \"val_loss\", factor = 0.1)\n",
    "  )\n",
    ")"
   ]
  },
  {
   "cell_type": "markdown",
   "metadata": {},
   "source": [
    "### As we can see from above experiments.... the test accuracy varies a lot."
   ]
  },
  {
   "cell_type": "markdown",
   "metadata": {},
   "source": [
    "### Lets try with CNN + LSTM model"
   ]
  },
  {
   "cell_type": "code",
   "execution_count": 115,
   "metadata": {},
   "outputs": [
    {
     "name": "stdout",
     "output_type": "stream",
     "text": [
      "Epoch 1/3\n",
      "106443/106443 [==============================] - 685s 6ms/step - loss: 0.6083 - acc: 0.8129\n",
      "Epoch 2/3\n",
      "106443/106443 [==============================] - 669s 6ms/step - loss: 0.4329 - acc: 0.8634\n",
      "Epoch 3/3\n",
      "106443/106443 [==============================] - 668s 6ms/step - loss: 0.3733 - acc: 0.8811\n"
     ]
    },
    {
     "data": {
      "text/plain": [
       "<keras.callbacks.History at 0x21170f2e940>"
      ]
     },
     "execution_count": 115,
     "metadata": {},
     "output_type": "execute_result"
    }
   ],
   "source": [
    "kernel_size = 5\n",
    "filters = 64\n",
    "pool_size = 4\n",
    "\n",
    "lstm_output_size = 70\n",
    "\n",
    "\n",
    "model_ngram_cnnlstm = Sequential()\n",
    "model_ngram_cnnlstm.add(embedding_layer)\n",
    "model_ngram_cnnlstm.add(Dropout(0.2))\n",
    "model_ngram_cnnlstm.add(Conv1D(64, 5, activation='relu'))\n",
    "model_ngram_cnnlstm.add(MaxPooling1D(pool_size=4))\n",
    "model_ngram_cnnlstm.add(LSTM(180))\n",
    "model_ngram_cnnlstm.add(Dense(64, activation='relu'))\n",
    "model_ngram_cnnlstm.add(Dense(23, activation='softmax'))\n",
    "model_ngram_cnnlstm.compile(loss='sparse_categorical_crossentropy', optimizer='adam', metrics=['accuracy'])\n",
    "\n",
    "\n",
    "model_ngram_cnnlstm.fit(complete_train_ngram_padded,complete_labels_ngram\n",
    "          ,batch_size = 32, epochs = 3 )"
   ]
  },
  {
   "cell_type": "code",
   "execution_count": 112,
   "metadata": {},
   "outputs": [
    {
     "data": {
      "text/plain": [
       "(106443, 130)"
      ]
     },
     "execution_count": 112,
     "metadata": {},
     "output_type": "execute_result"
    }
   ],
   "source": [
    "complete_train_ngram_padded.shape"
   ]
  },
  {
   "cell_type": "code",
   "execution_count": 117,
   "metadata": {},
   "outputs": [
    {
     "data": {
      "text/plain": [
       "0.7311161217587373"
      ]
     },
     "execution_count": 117,
     "metadata": {},
     "output_type": "execute_result"
    }
   ],
   "source": [
    "ngram_cnnlstm_pred = model_ngram_cnnlstm.predict(complete_test_ngram_padded)\n",
    "ngram_cnnlstm_pred = list(map(np.argmax, ngram_cnnlstm_pred))\n",
    "ngram_cnnlstm_accu = accuracy_score (test_labels,ngram_cnnlstm_pred)\n",
    "ngram_cnnlstm_accu"
   ]
  },
  {
   "cell_type": "markdown",
   "metadata": {},
   "source": [
    "### CNN+ LSTM with different configuration"
   ]
  },
  {
   "cell_type": "code",
   "execution_count": 118,
   "metadata": {},
   "outputs": [
    {
     "name": "stdout",
     "output_type": "stream",
     "text": [
      "Train on 103249 samples, validate on 3194 samples\n",
      "Epoch 1/5\n",
      "103249/103249 [==============================] - 245s 2ms/step - loss: 0.5124 - acc: 0.8435 - val_loss: 0.4518 - val_acc: 0.8591\n",
      "Epoch 2/5\n",
      "103249/103249 [==============================] - 393s 4ms/step - loss: 0.3369 - acc: 0.8970 - val_loss: 0.4764 - val_acc: 0.8547\n",
      "Epoch 3/5\n",
      "103249/103249 [==============================] - 621s 6ms/step - loss: 0.2670 - acc: 0.9171 - val_loss: 0.4835 - val_acc: 0.8594\n"
     ]
    },
    {
     "data": {
      "text/plain": [
       "<keras.callbacks.History at 0x21241780438>"
      ]
     },
     "execution_count": 118,
     "metadata": {},
     "output_type": "execute_result"
    }
   ],
   "source": [
    "kernel_size = 5\n",
    "filters = 64\n",
    "pool_size = 4\n",
    "\n",
    "lstm_output_size = 70\n",
    "\n",
    "\n",
    "model_ngram_cnnlstm1 = Sequential()\n",
    "model_ngram_cnnlstm1.add(embedding_layer)\n",
    "#model_ngram_cnnlstm.add(Dropout(0.2))\n",
    "model_ngram_cnnlstm1.add(Conv1D(64, 5, activation='relu'))\n",
    "model_ngram_cnnlstm1.add(MaxPooling1D(pool_size=4))\n",
    "model_ngram_cnnlstm1.add(LSTM(150))\n",
    "model_ngram_cnnlstm1.add(Dense(23, activation='softmax'))\n",
    "model_ngram_cnnlstm1.compile(loss='sparse_categorical_crossentropy', optimizer='adam', metrics=['accuracy'])\n",
    "\n",
    "\n",
    "model_ngram_cnnlstm1.fit(complete_train_ngram_padded,complete_labels_ngram\n",
    "          ,batch_size = 32, validation_split=0.03, epochs = 5, callbacks = [earlystopping_callback])"
   ]
  },
  {
   "cell_type": "code",
   "execution_count": 119,
   "metadata": {},
   "outputs": [
    {
     "data": {
      "text/plain": [
       "0.7282600526118"
      ]
     },
     "execution_count": 119,
     "metadata": {},
     "output_type": "execute_result"
    }
   ],
   "source": [
    "ngram_cnnlstm_pred1 = model_ngram_cnnlstm1.predict(complete_test_ngram_padded)\n",
    "ngram_cnnlstm_pred1 = list(map(np.argmax, ngram_cnnlstm_pred1))\n",
    "ngram_cnnlstm_accu1 = accuracy_score (test_labels,ngram_cnnlstm_pred1)\n",
    "ngram_cnnlstm_accu1"
   ]
  },
  {
   "cell_type": "markdown",
   "metadata": {},
   "source": [
    "### CNN+ LSTM without ngrams"
   ]
  },
  {
   "cell_type": "code",
   "execution_count": 120,
   "metadata": {},
   "outputs": [
    {
     "name": "stdout",
     "output_type": "stream",
     "text": [
      "Train on 103249 samples, validate on 3194 samples\n",
      "Epoch 1/5\n",
      "103249/103249 [==============================] - 548s 5ms/step - loss: 0.4627 - acc: 0.8591 - val_loss: 0.3006 - val_acc: 0.9020\n",
      "Epoch 2/5\n",
      "103249/103249 [==============================] - 561s 5ms/step - loss: 0.2704 - acc: 0.9160 - val_loss: 0.3117 - val_acc: 0.9029\n",
      "Epoch 3/5\n",
      "103249/103249 [==============================] - 609s 6ms/step - loss: 0.2061 - acc: 0.9370 - val_loss: 0.3235 - val_acc: 0.8998\n"
     ]
    },
    {
     "data": {
      "text/plain": [
       "<keras.callbacks.History at 0x21242367320>"
      ]
     },
     "execution_count": 120,
     "metadata": {},
     "output_type": "execute_result"
    }
   ],
   "source": [
    "kernel_size = 5\n",
    "filters = 64\n",
    "pool_size = 4\n",
    "\n",
    "lstm_output_size = 70\n",
    "\n",
    "\n",
    "model_no_ngram_cnnlstm = Sequential()\n",
    "model_no_ngram_cnnlstm.add(embedding_layer)\n",
    "#model_ngram_cnnlstm.add(GlobalAveragePooling1D())\n",
    "#model_ngram_cnnlstm.add(Dropout(0.2))\n",
    "model_no_ngram_cnnlstm.add(Conv1D(64, 5, activation='relu'))\n",
    "model_no_ngram_cnnlstm.add(MaxPooling1D(pool_size=4))\n",
    "model_no_ngram_cnnlstm.add(LSTM(150))\n",
    "model_no_ngram_cnnlstm.add(Dense(23, activation='softmax'))\n",
    "model_no_ngram_cnnlstm.compile(loss='sparse_categorical_crossentropy', optimizer='adam', metrics=['accuracy'])\n",
    "\n",
    "\n",
    "model_no_ngram_cnnlstm.fit(complete_train_no_ngram_padded,complete_labels_no_ngram\n",
    "          ,batch_size = 32, validation_split=0.03, epochs = 5, callbacks = [earlystopping_callback])"
   ]
  },
  {
   "cell_type": "code",
   "execution_count": 122,
   "metadata": {},
   "outputs": [
    {
     "data": {
      "text/plain": [
       "0.7055993987222848"
      ]
     },
     "execution_count": 122,
     "metadata": {},
     "output_type": "execute_result"
    }
   ],
   "source": [
    "no_ngram_cnnlstm_pred = model_no_ngram_cnnlstm.predict(complete_test_no_ngram_padded)\n",
    "no_ngram_cnnlstm_pred = list(map(np.argmax, no_ngram_cnnlstm_pred))\n",
    "no_ngram_cnnlstm_accu = accuracy_score (test_labels,no_ngram_cnnlstm_pred)\n",
    "no_ngram_cnnlstm_accu"
   ]
  },
  {
   "cell_type": "markdown",
   "metadata": {},
   "source": [
    "#### with dropout and another dense layer"
   ]
  },
  {
   "cell_type": "code",
   "execution_count": 124,
   "metadata": {},
   "outputs": [
    {
     "name": "stdout",
     "output_type": "stream",
     "text": [
      "Train on 103249 samples, validate on 3194 samples\n",
      "Epoch 1/3\n",
      "103249/103249 [==============================] - 582s 6ms/step - loss: 0.5048 - acc: 0.8437 - val_loss: 0.3575 - val_acc: 0.8860\n",
      "Epoch 2/3\n",
      "103249/103249 [==============================] - 612s 6ms/step - loss: 0.3158 - acc: 0.9005 - val_loss: 0.3441 - val_acc: 0.8929\n",
      "Epoch 3/3\n",
      "103249/103249 [==============================] - 658s 6ms/step - loss: 0.2722 - acc: 0.9147 - val_loss: 0.3464 - val_acc: 0.8914\n"
     ]
    },
    {
     "data": {
      "text/plain": [
       "<keras.callbacks.History at 0x21243199358>"
      ]
     },
     "execution_count": 124,
     "metadata": {},
     "output_type": "execute_result"
    }
   ],
   "source": [
    "kernel_size = 5\n",
    "filters = 64\n",
    "pool_size = 4\n",
    "\n",
    "lstm_output_size = 70\n",
    "\n",
    "\n",
    "model_no_ngram_cnnlstm2 = Sequential()\n",
    "model_no_ngram_cnnlstm2.add(embedding_layer)\n",
    "#model_ngram_cnnlstm.add(GlobalAveragePooling1D())\n",
    "model_no_ngram_cnnlstm2.add(Dropout(0.2))\n",
    "model_no_ngram_cnnlstm2.add(Conv1D(64, 5, activation='relu'))\n",
    "model_no_ngram_cnnlstm2.add(MaxPooling1D(pool_size=4))\n",
    "model_no_ngram_cnnlstm2.add(LSTM(150))\n",
    "model_no_ngram_cnnlstm2.add(Dense(64, activation='relu'))\n",
    "model_no_ngram_cnnlstm2.add(Dense(23, activation='softmax'))\n",
    "model_no_ngram_cnnlstm2.compile(loss='sparse_categorical_crossentropy', optimizer='adam', metrics=['accuracy'])\n",
    "\n",
    "\n",
    "model_no_ngram_cnnlstm2.fit(complete_train_no_ngram_padded,complete_labels_no_ngram\n",
    "          ,batch_size = 32, validation_split=0.03, epochs = 3, callbacks = [earlystopping_callback])"
   ]
  },
  {
   "cell_type": "code",
   "execution_count": 125,
   "metadata": {},
   "outputs": [
    {
     "data": {
      "text/plain": [
       "0.7092446448703494"
      ]
     },
     "execution_count": 125,
     "metadata": {},
     "output_type": "execute_result"
    }
   ],
   "source": [
    "no_ngram_cnnlstm_pred2 = model_no_ngram_cnnlstm2.predict(complete_test_no_ngram_padded)\n",
    "no_ngram_cnnlstm_pred2 = list(map(np.argmax, no_ngram_cnnlstm_pred2))\n",
    "no_ngram_cnnlstm_accu2 = accuracy_score (test_labels,no_ngram_cnnlstm_pred2)\n",
    "no_ngram_cnnlstm_accu2"
   ]
  },
  {
   "cell_type": "markdown",
   "metadata": {},
   "source": [
    "### Just to observe if results vary if i change the validation split by increasing it to 10%. Even though the training set used to train the data will decrease but will it have any counter intuitive result?"
   ]
  },
  {
   "cell_type": "code",
   "execution_count": 126,
   "metadata": {},
   "outputs": [
    {
     "name": "stdout",
     "output_type": "stream",
     "text": [
      "Train on 95798 samples, validate on 10645 samples\n",
      "Epoch 1/3\n",
      "95798/95798 [==============================] - 613s 6ms/step - loss: 0.4884 - acc: 0.8518 - val_loss: 0.3401 - val_acc: 0.8959\n",
      "Epoch 2/3\n",
      "95798/95798 [==============================] - 618s 6ms/step - loss: 0.2875 - acc: 0.9107 - val_loss: 0.3331 - val_acc: 0.8959\n",
      "Epoch 3/3\n",
      "95798/95798 [==============================] - 589s 6ms/step - loss: 0.2419 - acc: 0.9248 - val_loss: 0.3397 - val_acc: 0.8988\n"
     ]
    },
    {
     "data": {
      "text/plain": [
       "<keras.callbacks.History at 0x2126fe1db00>"
      ]
     },
     "execution_count": 126,
     "metadata": {},
     "output_type": "execute_result"
    }
   ],
   "source": [
    "kernel_size = 5\n",
    "filters = 64\n",
    "pool_size = 4\n",
    "\n",
    "lstm_output_size = 70\n",
    "\n",
    "\n",
    "model_no_ngram_cnnlstm3 = Sequential()\n",
    "model_no_ngram_cnnlstm3.add(embedding_layer)\n",
    "#model_ngram_cnnlstm.add(GlobalAveragePooling1D())\n",
    "model_no_ngram_cnnlstm3.add(Dropout(0.2))\n",
    "model_no_ngram_cnnlstm3.add(Conv1D(64, 5, activation='relu'))\n",
    "model_no_ngram_cnnlstm3.add(MaxPooling1D(pool_size=4))\n",
    "model_no_ngram_cnnlstm3.add(LSTM(150))\n",
    "model_no_ngram_cnnlstm3.add(Dense(64, activation='relu'))\n",
    "model_no_ngram_cnnlstm3.add(Dense(23, activation='softmax'))\n",
    "model_no_ngram_cnnlstm3.compile(loss='sparse_categorical_crossentropy', optimizer='adam', metrics=['accuracy'])\n",
    "\n",
    "\n",
    "model_no_ngram_cnnlstm3.fit(complete_train_no_ngram_padded,complete_labels_no_ngram\n",
    "          ,batch_size = 32, validation_split=0.1, epochs = 3, callbacks = [earlystopping_callback])"
   ]
  },
  {
   "cell_type": "code",
   "execution_count": 127,
   "metadata": {},
   "outputs": [
    {
     "data": {
      "text/plain": [
       "0.7101841413002631"
      ]
     },
     "execution_count": 127,
     "metadata": {},
     "output_type": "execute_result"
    }
   ],
   "source": [
    "no_ngram_cnnlstm_pred3 = model_no_ngram_cnnlstm3.predict(complete_test_no_ngram_padded)\n",
    "no_ngram_cnnlstm_pred3 = list(map(np.argmax, no_ngram_cnnlstm_pred3))\n",
    "no_ngram_cnnlstm_accu3 = accuracy_score (test_labels,no_ngram_cnnlstm_pred3)\n",
    "no_ngram_cnnlstm_accu3"
   ]
  },
  {
   "cell_type": "markdown",
   "metadata": {},
   "source": [
    "## CNN+ LSTM Summary\n",
    "### From above tests we can notice that the best accuracy was in the first attempt with ngrams using the complete dataset as training data\n",
    "=========================================================================================================="
   ]
  },
  {
   "cell_type": "markdown",
   "metadata": {},
   "source": [
    "## Fast text model \n",
    "==========================\n",
    "### A model developed by Facebook which can be used for text classification\n",
    "#### It can be installed from https://github.com/facebookresearch/fastText/tree/master/python"
   ]
  },
  {
   "cell_type": "markdown",
   "metadata": {},
   "source": [
    "First we will transform the input into required format. Each document is required to be preceded by \\_\\_label\\_\\_[label] and a space.\n",
    " Example : \\_\\_label_\\_19 year_man ballarat hospital minor_injury crash tree maryborough crash midnight intersection timor road police_investigate cause collision"
   ]
  },
  {
   "cell_type": "markdown",
   "metadata": {},
   "source": [
    "Since ngrams can be specified in fasttext api we will use data without ngrams initially."
   ]
  },
  {
   "cell_type": "code",
   "execution_count": 13,
   "metadata": {},
   "outputs": [],
   "source": [
    "# taking the complete data and labels and concatenating them as required by API\n",
    "# Adding __label__ to each string in labels list\n",
    "training_labels_fastext_no_ngram = ['__label__'+str(a)+' ' for a in complete_labels_no_ngram]\n",
    "traindata_with_labels_fastext_no_ngram = [\"{}{}\".format(labels_,docs_) for  labels_,docs_ in zip(training_labels_fastext_no_ngram,complete_data_no_ngram)]\n",
    "# Doing same for test data without ngram\n",
    "testing_labels_fastext = ['__label__'+str(a)+' ' for a in test_labels]\n",
    "testdata_with_labels_fastext_no_ngram = [\"{}{}\".format(labels_,docs_) for  labels_,docs_ in zip(testing_labels_fastext,test_data_no_ngram)]\n",
    "\n",
    "\n",
    "# we can also do the same with data with ngram just for testing purposes for later modelling\n",
    "training_labels_fastext_ngram = ['__label__'+str(a)+' ' for a in complete_labels_ngram]\n",
    "traindata_with_labels_fastext_ngram = [\"{}{}\".format(labels_,docs_) for  labels_,docs_ in zip(training_labels_fastext_ngram,complete_data_ngram)]\n",
    "\n",
    "# Doing same for test data with ngram\n",
    "testdata_with_labels_fastext_ngram = [\"{}{}\".format(labels_,docs_) for  labels_,docs_ in zip(testing_labels_fastext,test_data_ngram)]\n"
   ]
  },
  {
   "cell_type": "code",
   "execution_count": 14,
   "metadata": {},
   "outputs": [],
   "source": [
    "# Writing to disk since the input for fast text model accepts a filepath\n",
    "with open('traindata_with_labels_fastext_no_ngram.txt','w+') as o_fh:\n",
    "    for doc in traindata_with_labels_fastext_no_ngram:\n",
    "        o_fh.write('{}'.format(doc))\n",
    "            \n",
    "        o_fh.write('\\n')\n",
    "o_fh.close()                \n",
    " \n",
    "    \n",
    "with open('testdata_with_labels_fastext_no_ngram.txt','w+') as o_fh:\n",
    "    for doc in testdata_with_labels_fastext_no_ngram:\n",
    "        o_fh.write('{}'.format(doc))\n",
    "            \n",
    "        o_fh.write('\\n')\n",
    "o_fh.close()                \n",
    "\n",
    "with open('traindata_with_labels_fastext_ngram.txt','w+') as o_fh:\n",
    "    for doc in traindata_with_labels_fastext_ngram:\n",
    "        o_fh.write('{}'.format(doc))\n",
    "            \n",
    "        o_fh.write('\\n')\n",
    "o_fh.close()                \n",
    "\n",
    "with open('testdata_with_labels_fastext_ngram.txt','w+') as o_fh:\n",
    "    for doc in testdata_with_labels_fastext_ngram:\n",
    "        o_fh.write('{}'.format(doc))\n",
    "            \n",
    "        o_fh.write('\\n')\n",
    "o_fh.close()                \n"
   ]
  },
  {
   "cell_type": "code",
   "execution_count": 15,
   "metadata": {},
   "outputs": [],
   "source": [
    "\n",
    "# From previous testing we already have optimal parameters for this corpus\n",
    "# to make a model so we will directly be checking accuracy on test data\n",
    "def print_results(N, p, r):\n",
    "    print(\"N\\t\" + str(N))\n",
    "    print(\"P@{}\\t{:.3f}\".format(1, p))\n",
    "    print(\"R@{}\\t{:.3f}\".format(1, r))\n",
    "model = train_supervised(input = 'traindata_with_labels_fastext_no_ngram.txt',lr=0.8,dim=50,epoch=25,minCount=1,wordNgrams=3,loss=\"softmax\",verbose=2,thread = 3)"
   ]
  },
  {
   "cell_type": "code",
   "execution_count": 17,
   "metadata": {
    "scrolled": true
   },
   "outputs": [
    {
     "name": "stdout",
     "output_type": "stream",
     "text": [
      "N\t26134\n",
      "P@1\t0.777\n",
      "R@1\t0.777\n"
     ]
    }
   ],
   "source": [
    "print_results(*model.test('testdata_with_labels_fastext_no_ngram.txt'))"
   ]
  },
  {
   "cell_type": "code",
   "execution_count": 21,
   "metadata": {},
   "outputs": [],
   "source": [
    "pred_fastext = model.predict(testdata_with_labels_fastext_no_ngram)"
   ]
  },
  {
   "cell_type": "code",
   "execution_count": 70,
   "metadata": {},
   "outputs": [],
   "source": [
    "\n",
    "result = [re.search(r'.+__(\\d+)',x[0]).group(1) for x in pred_fastext[0]]"
   ]
  },
  {
   "cell_type": "code",
   "execution_count": 72,
   "metadata": {},
   "outputs": [
    {
     "data": {
      "text/plain": [
       "0.7635099586621571"
      ]
     },
     "execution_count": 72,
     "metadata": {},
     "output_type": "execute_result"
    }
   ],
   "source": [
    "fastest_no_ngram_accu = accuracy_score (test_labels,result)\n",
    "fastest_no_ngram_accu"
   ]
  },
  {
   "cell_type": "code",
   "execution_count": 73,
   "metadata": {},
   "outputs": [
    {
     "name": "stdout",
     "output_type": "stream",
     "text": [
      "N\t26134\n",
      "P@1\t0.776\n",
      "R@1\t0.776\n",
      "fastest_ngram_accu= 0.762532882375047\n"
     ]
    }
   ],
   "source": [
    "## model for fastext using data with ngram\n",
    "\n",
    "model_ngram = train_supervised(input = 'traindata_with_labels_fastext_ngram.txt',lr=0.8,dim=50,epoch=25,minCount=1,wordNgrams=3,loss=\"softmax\",verbose=2,thread = 3)\n",
    "print_results(*model_ngram.test('testdata_with_labels_fastext_ngram.txt'))\n",
    "pred_fastext_ngram = model_ngram.predict(testdata_with_labels_fastext_ngram)\n",
    "result_ngram = [re.search(r'.+__(\\d+)',x[0]).group(1) for x in pred_fastext_ngram[0]]\n",
    "fastest_ngram_accu = accuracy_score (test_labels,result_ngram)\n",
    "print('fastest_ngram_accu=',fastest_ngram_accu)"
   ]
  },
  {
   "cell_type": "markdown",
   "metadata": {},
   "source": [
    "# Summary:\n",
    "## Overall it seems that MLP has the highest accuracy among all the algorithms tested above."
   ]
  }
 ],
 "metadata": {
  "kernelspec": {
   "display_name": "Python 3",
   "language": "python",
   "name": "python3"
  },
  "language_info": {
   "codemirror_mode": {
    "name": "ipython",
    "version": 3
   },
   "file_extension": ".py",
   "mimetype": "text/x-python",
   "name": "python",
   "nbconvert_exporter": "python",
   "pygments_lexer": "ipython3",
   "version": "3.5.2"
  }
 },
 "nbformat": 4,
 "nbformat_minor": 2
}
