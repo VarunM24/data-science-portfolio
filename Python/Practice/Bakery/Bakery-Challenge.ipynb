{
 "cells": [
  {
   "cell_type": "markdown",
   "metadata": {},
   "source": [
    "# Bakery - Orders\n",
    "In this problem we have to design an algorithm that will help bakery find the appropriate number of prepackaged bunch of items such that they use the greatest bunch most in order to save packaging money.<br>\n",
    "This bakery has 3 menu items and the following bunches available:<br>\n",
    "\n",
    "| Item name | Item code | Bunches|\n",
    "|-----------|-----------|----------|\n",
    "|Vegemite Scroll| VS5|3 @ 6.99, 5 @ 8.99|\n",
    "| Croissant | CF | 2 @ 9.95, 5@ 16.95, 8 @ 24.95|\n",
    "    |Bluberry Muffin|MB11|3 @ 5.95, 5 @ 9.95 ,9 @ 16.99|\n",
    "\n",
    "\n",
    "\n",
    "\n",
    "\n"
   ]
  },
  {
   "cell_type": "code",
   "execution_count": 1,
   "metadata": {},
   "outputs": [],
   "source": [
    "class Bakery:\n",
    "    def __init__(self,menu_items, menu_price_dict,printOrder):\n",
    "        '''Initialize Bakery class with menu items, their item code and package with prices\n",
    "        Parameters\n",
    "        ----------\n",
    "        menu_items: dict\n",
    "            This is expected to contain item code (str) as key and item name as value\n",
    "        menu_price_dict: dict\n",
    "            This is expected to contain item code (str) as key and dictionary of package (int):price(float) as value\n",
    "        printOrder: list\n",
    "            Contains item codes (str) in order in which it is expected to be printed\n",
    "             \n",
    "        \n",
    "        '''\n",
    "#         menu_items = {'Vegemite Scroll':'VS5','Blueberry Muffin':'MB11','Croissant':'CF'}\n",
    "        assert len(menu_price_dict)==len(menu_items), 'Number of items in menu and menu price do not match.'\n",
    "        self.__items=menu_items\n",
    "        self.__items_price_dict = menu_price_dict\n",
    "        self.__valid_package_dict = {k:sorted(list(v.keys())) for k,v in menu_price_dict.items()}\n",
    "        self.__printOrder = printOrder\n",
    "        \n",
    "\n",
    "    def __determineItemBreakup(self,valid_package_sizes,order_amount,min_package_req_for_diff_amts,pkgs_used):\n",
    "        ''' Finds the minimum number of biggest packages required for provided order amounts to save space and\n",
    "        returns the packages found\n",
    "        Parameters\n",
    "        ----------\n",
    "        valid_package_sizes: list\n",
    "            ascending list of valid package size\n",
    "        order_amount: int\n",
    "            number of items ordered for a particular menu item\n",
    "        min_package_req_for_diff_amts: list\n",
    "            initialized list of [0] with number of elements = order_amount +1 . Used to store minimum no. of packages \n",
    "            required for different order amts\n",
    "        pkgs_used: list\n",
    "            initialized list of [0] with number of elements = order_amount +1 . Used to track the type of packages for different\n",
    "            order amounts which is used to calculate the different types of package used for an order amount\n",
    "        \n",
    "        Returns:\n",
    "        -------\n",
    "        pkgs_used: list\n",
    "            list which now contains the package types for different order amounts which is used to \n",
    "            calculate the different types of package used for an order amount by __getPackagesUsedAndTotalForAmt method\n",
    "\n",
    "        '''\n",
    "\n",
    "        # we will try to find minimum package count for the each of different number of order amounts upto the required ordered amount\n",
    "        # eg. if ordered amt = 10 then we will find min pkgs req for all amt till 10 i.e. 0,1,2,...10\n",
    "        # We do this by taking each of these amts (0,1,2..10) and then we try to find the minimum no. of pkgs required by trying out \n",
    "        # each of the given valid sizes. \n",
    "        for temp_amt in range(min(valid_package_sizes),order_amount+1):\n",
    "            #Initially assume maximum (approx) number of smallest packages\n",
    "            pcks_used_count = temp_amt//min(valid_package_sizes)\n",
    "            new_pkg =0\n",
    "            validAmt = False\n",
    "            # Now we will try to work our way upto the required package amount  and find minimum package numbers required\n",
    "            # and store that for final output\n",
    "\n",
    "            for valid_pk_sz in [valid_pk_size for valid_pk_size in valid_package_sizes if valid_pk_size<= temp_amt]:\n",
    "\n",
    "                # So we assume we have used 1 of the valid pkg (which is why we deducting valid pkg in list)\n",
    "                # And then we find minimum pkgs stored in list for amt - a valid pk size\n",
    "                # If minimum package is the initialized value then we \n",
    "                # and store it in a list\n",
    "\n",
    "                # These conditions ensure that the amount order can be served using the available valid package size list\n",
    "                # Last condition ensure that minimum number of packages are chosen \n",
    "\n",
    "                if( ( ((temp_amt - valid_pk_sz >= min (valid_package_sizes))  & (min_package_req_for_diff_amts[temp_amt - valid_pk_sz] >0)) | \n",
    "                     (temp_amt - valid_pk_sz ==0) ) & \n",
    "                   (min_package_req_for_diff_amts[temp_amt - valid_pk_sz] + 1 <= pcks_used_count)):\n",
    "\n",
    "                    pcks_used_count = min_package_req_for_diff_amts[temp_amt - valid_pk_sz] + 1\n",
    "                    # recording the valid package size used\n",
    "                    new_pkg = valid_pk_sz\n",
    "                    # validAmt ensures that invalid order amounts are given 0 value for min_package_req_for_diff_amts\n",
    "                    validAmt =True\n",
    "            # updating valid packs used list and minimum number of packages used list\n",
    "            min_package_req_for_diff_amts[temp_amt]=pcks_used_count if validAmt else 0\n",
    "            # Adding the last package type to pkgs_used list\n",
    "            pkgs_used[temp_amt] = new_pkg\n",
    "        return pkgs_used\n",
    "                \n",
    "    \n",
    "\n",
    "    def printBakeryReceipt(self,orders_dict):\n",
    "        '''Prints Bakery receipt in provided format\n",
    "        orders_dict: dict\n",
    "            contains key = item code (str) value = order amounts(int)\n",
    "        '''\n",
    "        order_dict = {}\n",
    "        assert len(orders_dict) <= len(self.__items) ,'Please check your order'\n",
    "        \n",
    "        # Creating order dictionary\n",
    "        for k,v in orders_dict.items():\n",
    "            order_dict[str.upper(k)] = int(v)\n",
    "        # Creating order breakdown dictionary \n",
    "        order_breakdown_dict = {k:[] for k,v in self.__items.items()}\n",
    "        order_total_dict = {k:0 for k,v in self.__items.items()}\n",
    "        # Determining item breakup for each item ordered\n",
    "        for k,v in order_dict.items():\n",
    "            pkgUsedList=self.__determineItemBreakup(self.__valid_package_dict[k],order_dict[k],[0]*(order_dict[k]+1),[0]*(order_dict[k]+1))\n",
    "            order_breakdown_dict[k],order_total_dict[k] = self.__getPackagesUsedAndTotalForAmt(k,pkgUsedList,order_dict[k])\n",
    "            \n",
    "        # Printing the results\n",
    "        for k in self.__printOrder:\n",
    "            print ('{} {} ${:g}'.format(order_dict[k],k,order_total_dict[k]))\n",
    "            \n",
    "            for i in reversed(sorted(list(set(order_breakdown_dict[k])))):\n",
    "                if(order_total_dict[k]==0):\n",
    "                    print ('{:>17}'.format('Invalid Order'))\n",
    "                    continue\n",
    "                print ('{:>7} x {} ${:g}'.format(order_breakdown_dict[k].count(i),i,self.__items_price_dict[k][i]))\n",
    "        \n",
    "\n",
    "        \n",
    "        \n",
    "    def __getPackagesUsedAndTotalForAmt(self,k,pkgUsed,amt):\n",
    "        '''Calculates the package types to be used for order amount as well as the total bill\n",
    "        Parameters:\n",
    "        -----------\n",
    "        k: str\n",
    "            item code\n",
    "        pkgUsed: list\n",
    "            list which now contains the package types for different order amounts\n",
    "        amt: int\n",
    "            order amount for k item code\n",
    "        Returns:\n",
    "        --------\n",
    "        pgkUsedList: list\n",
    "            package types that will be provided to customer \n",
    "        \n",
    "        total: float\n",
    "            total bill calculated\n",
    "        '''        \n",
    "        pgkUsedList = []\n",
    "        pkg = amt\n",
    "        total =0\n",
    "        \n",
    "        while pkg > 0:\n",
    "            if(pkgUsed[pkg])==0:\n",
    "                pgkUsedList.append(0)\n",
    "                break\n",
    "            thisPkg = pkgUsed[pkg]\n",
    "            pgkUsedList.append(thisPkg)\n",
    "            total = total + self.__items_price_dict[k][thisPkg]\n",
    "#             print(thisPkg)\n",
    "            pkg = pkg - thisPkg\n",
    "        pgkUsedList.sort(reverse=True)\n",
    "        return pgkUsedList,total\n"
   ]
  },
  {
   "cell_type": "code",
   "execution_count": 2,
   "metadata": {},
   "outputs": [],
   "source": [
    "# Initialising bakery with prices and menu\n",
    "bakery = Bakery(menu_items = {'VS5':'Vegemite Scroll','MB11':'Blueberry Muffin','CF':'Croissant'},\n",
    "               menu_price_dict = {'VS5':{3:6.99,5:8.99},'MB11':{2:9.95,5:16.95,8:24.95},'CF':{3:5.95,5:9.95,9:16.99}},\n",
    "               printOrder = ['VS5','MB11','CF'])\n"
   ]
  },
  {
   "cell_type": "markdown",
   "metadata": {},
   "source": [
    "#### Test case 1 (Given test case)\n",
    "Input:<br>\n",
    "10 VS5<br>\n",
    "14 MB11<br>\n",
    "13 CF<br>"
   ]
  },
  {
   "cell_type": "markdown",
   "metadata": {},
   "source": [
    "Since jupyter gets stuck if there is a input() cell and I run all, so I have provided input already in a list"
   ]
  },
  {
   "cell_type": "code",
   "execution_count": 3,
   "metadata": {},
   "outputs": [],
   "source": [
    "order_list = ['10 VS5',\n",
    "             '14 MB11',\n",
    "             '13 CF']\n",
    "#for i in range(3):\n",
    "#    order_list.append(input()) "
   ]
  },
  {
   "cell_type": "code",
   "execution_count": 4,
   "metadata": {},
   "outputs": [],
   "source": [
    "# Creating order dictionary \n",
    "order_dict = {x.split()[1]:int(x.split()[0]) for x in order_list }"
   ]
  },
  {
   "cell_type": "code",
   "execution_count": 5,
   "metadata": {},
   "outputs": [
    {
     "data": {
      "text/plain": [
       "{'CF': 13, 'MB11': 14, 'VS5': 10}"
      ]
     },
     "execution_count": 5,
     "metadata": {},
     "output_type": "execute_result"
    }
   ],
   "source": [
    "order_dict"
   ]
  },
  {
   "cell_type": "code",
   "execution_count": 6,
   "metadata": {},
   "outputs": [
    {
     "name": "stdout",
     "output_type": "stream",
     "text": [
      "10 VS5 $17.98\n",
      "      2 x 5 $8.99\n",
      "14 MB11 $54.8\n",
      "      1 x 8 $24.95\n",
      "      3 x 2 $9.95\n",
      "13 CF $25.85\n",
      "      2 x 5 $9.95\n",
      "      1 x 3 $5.95\n"
     ]
    }
   ],
   "source": [
    "bakery.printBakeryReceipt(order_dict)"
   ]
  },
  {
   "cell_type": "markdown",
   "metadata": {},
   "source": [
    "#### Test case 2 - order for a group of friends\n",
    "Input:<br>\n",
    "22 VS5<br>\n",
    "30 MB11<br>\n",
    "19 CF<br>"
   ]
  },
  {
   "cell_type": "code",
   "execution_count": 7,
   "metadata": {},
   "outputs": [],
   "source": [
    "order_list2 = ['22 VS5',\n",
    "             '30 MB11',\n",
    "             '19 CF']\n",
    "# for i in range(3):\n",
    "#     order_list2.append(input()) "
   ]
  },
  {
   "cell_type": "code",
   "execution_count": 8,
   "metadata": {},
   "outputs": [],
   "source": [
    "# Creating order dictionary \n",
    "order_dict2 = {x.split()[1]:int(x.split()[0]) for x in order_list2 }"
   ]
  },
  {
   "cell_type": "code",
   "execution_count": 9,
   "metadata": {},
   "outputs": [
    {
     "data": {
      "text/plain": [
       "{'CF': 19, 'MB11': 30, 'VS5': 22}"
      ]
     },
     "execution_count": 9,
     "metadata": {},
     "output_type": "execute_result"
    }
   ],
   "source": [
    "order_dict2"
   ]
  },
  {
   "cell_type": "code",
   "execution_count": 10,
   "metadata": {},
   "outputs": [
    {
     "name": "stdout",
     "output_type": "stream",
     "text": [
      "22 VS5 $45.94\n",
      "      2 x 5 $8.99\n",
      "      4 x 3 $6.99\n",
      "30 MB11 $104.7\n",
      "      3 x 8 $24.95\n",
      "      3 x 2 $9.95\n",
      "19 CF $36.89\n",
      "      1 x 9 $16.99\n",
      "      2 x 5 $9.95\n"
     ]
    }
   ],
   "source": [
    "bakery.printBakeryReceipt(order_dict2)"
   ]
  },
  {
   "cell_type": "markdown",
   "metadata": {},
   "source": [
    "#### Test case 3 - invalid order  (which cannot be purchased using prepackaged bunches)\n",
    "Input:<br>\n",
    "7 VS5<br>\n",
    "1 MB11<br>\n",
    "3 CF<br>"
   ]
  },
  {
   "cell_type": "code",
   "execution_count": 11,
   "metadata": {},
   "outputs": [],
   "source": [
    "order_list3 = ['7 VS5',\n",
    "             '1 MB11',\n",
    "             '3 CF']\n",
    "# for i in range(3):\n",
    "#     order_list3.append(input()) "
   ]
  },
  {
   "cell_type": "code",
   "execution_count": 12,
   "metadata": {},
   "outputs": [],
   "source": [
    "# Creating order dictionary \n",
    "order_dict3 = {x.split()[1]:int(x.split()[0]) for x in order_list3 }"
   ]
  },
  {
   "cell_type": "code",
   "execution_count": 13,
   "metadata": {
    "scrolled": true
   },
   "outputs": [
    {
     "name": "stdout",
     "output_type": "stream",
     "text": [
      "7 VS5 $0\n",
      "    Invalid Order\n",
      "1 MB11 $0\n",
      "    Invalid Order\n",
      "3 CF $5.95\n",
      "      1 x 3 $5.95\n"
     ]
    }
   ],
   "source": [
    "bakery.printBakeryReceipt(order_dict3)"
   ]
  },
  {
   "cell_type": "markdown",
   "metadata": {},
   "source": [
    "#### Test case 4 - Random large order for whole victoria\n",
    "Input:<br>\n",
    "534 VS5<br>\n",
    "677 MB11<br>\n",
    "1111 CF<br>"
   ]
  },
  {
   "cell_type": "code",
   "execution_count": 14,
   "metadata": {},
   "outputs": [],
   "source": [
    "order_list4 = ['534 VS5',\n",
    "             '677 MB11',\n",
    "             '1111 CF']\n",
    "# for i in range(3):\n",
    "#     order_list4.append(input()) "
   ]
  },
  {
   "cell_type": "code",
   "execution_count": 15,
   "metadata": {},
   "outputs": [],
   "source": [
    "# Creating order dictionary \n",
    "order_dict4 = {x.split()[1]:int(x.split()[0]) for x in order_list4 }"
   ]
  },
  {
   "cell_type": "code",
   "execution_count": 16,
   "metadata": {},
   "outputs": [
    {
     "name": "stdout",
     "output_type": "stream",
     "text": [
      "534 VS5 $964.92\n",
      "    105 x 5 $8.99\n",
      "      3 x 3 $6.99\n",
      "677 MB11 $2112.75\n",
      "     84 x 8 $24.95\n",
      "      1 x 5 $16.95\n",
      "1111 CF $2098.63\n",
      "    122 x 9 $16.99\n",
      "      2 x 5 $9.95\n",
      "      1 x 3 $5.95\n"
     ]
    }
   ],
   "source": [
    "bakery.printBakeryReceipt(order_dict4)"
   ]
  }
 ],
 "metadata": {
  "kernelspec": {
   "display_name": "Python 3",
   "language": "python",
   "name": "python3"
  },
  "language_info": {
   "codemirror_mode": {
    "name": "ipython",
    "version": 3
   },
   "file_extension": ".py",
   "mimetype": "text/x-python",
   "name": "python",
   "nbconvert_exporter": "python",
   "pygments_lexer": "ipython3",
   "version": "3.5.2"
  }
 },
 "nbformat": 4,
 "nbformat_minor": 2
}
